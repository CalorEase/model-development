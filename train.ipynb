{
 "cells": [
  {
   "cell_type": "code",
   "execution_count": 1,
   "metadata": {},
   "outputs": [],
   "source": [
    "import os\n",
    "import pathlib\n",
    "import logging\n",
    "import re\n",
    "import shutil\n",
    "import glob\n",
    "import pandas as pd\n",
    "import xml.etree.ElementTree as ET\n",
    "from tqdm import tqdm\n",
    "from sklearn.preprocessing import LabelEncoder\n",
    "from sklearn.model_selection import train_test_split\n",
    "import tarfile\n",
    "import time\n",
    "from collections import defaultdict\n",
    "from io import StringIO\n",
    "from matplotlib import pyplot as plt\n",
    "from PIL import Image\n",
    "from IPython.display import display\n",
    "import numpy as np\n",
    "\n",
    "%load_ext tensorboard\n",
    "%load_ext autoreload\n",
    "%matplotlib inline\n",
    "%autoreload 2"
   ]
  },
  {
   "cell_type": "code",
   "execution_count": 2,
   "metadata": {},
   "outputs": [
    {
     "name": "stdout",
     "output_type": "stream",
     "text": [
      "1 Physical GPUs, 1 Logical GPUs\n"
     ]
    }
   ],
   "source": [
    "import tensorflow.compat.v1 as tf1\n",
    "import contextlib2\n",
    "import tensorflow as tf\n",
    "import wget\n",
    "\n",
    "from object_detection.utils import dataset_util\n",
    "from object_detection.utils import label_map_util\n",
    "# from object_detection.utils import config_util\n",
    "from object_detection.utils import visualization_utils as viz_utils\n",
    "# from object_detection.utils import colab_utils\n",
    "from object_detection.builders import model_builder\n",
    "from object_detection.dataset_tools import tf_record_creation_util\n",
    "\n",
    "\n",
    "# Enable GPU dynamic memory allocation\n",
    "gpus = tf.config.list_physical_devices('GPU')\n",
    "if gpus:\n",
    "    try:\n",
    "        for gpu in gpus:\n",
    "            tf.config.experimental.set_memory_growth(gpu, True)\n",
    "        logical_gpus = tf.config.list_logical_devices('GPU')\n",
    "        print(len(gpus), \"Physical GPUs,\", len(logical_gpus), \"Logical GPUs\")\n",
    "    except RuntimeError as e:\n",
    "        # Memory growth must be set before GPUs have been initialized\n",
    "        print(e)"
   ]
  },
  {
   "cell_type": "code",
   "execution_count": 3,
   "metadata": {},
   "outputs": [],
   "source": [
    "#LINK : http://download.tensorflow.org/models/object_detection/tf2/20200711/efficientdet_d0_coco17_tpu-32.tar.gz\n",
    "model_name = \"efficientdet_d0_coco17_tpu-32\"\n",
    "model = \"efficientdet_d0_coco17_tpu-32.tar.gz\"\n",
    "\n",
    "os.makedirs(\"pre_trained_models/\", exist_ok=True)\n",
    "download_tar = f\"http://download.tensorflow.org/models/object_detection/tf2/20200711/{model}\"\n",
    "wget.download(download_tar, out=\"pre_trained_models/\")\n",
    "\n",
    "tar = tarfile.open(f\"pre_trained_models/{model}\")\n",
    "tar.extractall(path=\"pre_trained_models/\")\n",
    "tar.close()\n",
    "\n",
    "os.unlink(f\"pre_trained_models/{model}\")"
   ]
  },
  {
   "cell_type": "code",
   "execution_count": null,
   "metadata": {},
   "outputs": [],
   "source": [
    "import re\n",
    "\n",
    "pipeline_path = \"pre_trained_models/pipeline_jajanan.config\"\n",
    "fine_tune_checkpoint = \"pre_trained_models/efficientdet_d0_coco17_tpu-32/checkpoint/ckpt-0\"\n",
    "train_input_path = \"jajanan/train/food.tfrecord\"\n",
    "valid_input_path = \"jajanan/valid/food.tfrecord\"\n",
    "label_map_path = \"jajanan/train/food_label_map.pbtxt\"\n",
    "num_classes = 5\n",
    "train_batch_size = 8\n",
    "min_dim = 256\n",
    "max_dim = 256\n",
    "\n",
    "with open(pipeline_path) as f:\n",
    "    pipeline_content = f.read()\n",
    "with open(pipeline_path, 'w') as f:\n",
    "    # change to finetune checkpoint path\n",
    "    pipeline_content = re.sub('fine_tune_checkpoint: \".*?\"',\n",
    "               f'fine_tune_checkpoint: \"{fine_tune_checkpoint}\"', pipeline_content)\n",
    "\n",
    "    # change to tfrecord path for train and validation\n",
    "    pipeline_content = re.sub(\n",
    "        '(input_path: \".*?)(PATH_TO_BE_CONFIGURED/train)(.*?\")', f'input_path: \"{train_input_path}\"', pipeline_content)\n",
    "    pipeline_content = re.sub(\n",
    "        '(input_path: \".*?)(PATH_TO_BE_CONFIGURED/val)(.*?\")', f'input_path: \"{valid_input_path}\"', pipeline_content)\n",
    "\n",
    "    # change to label_map_path\n",
    "    pipeline_content = re.sub(\n",
    "        'label_map_path: \".*?\"', f'label_map_path: \"{label_map_path}\"', pipeline_content)\n",
    "\n",
    "    # Set training batch_size\n",
    "    pipeline_content = re.sub(r'(train_config\\s*{\\s*batch_size:\\s*)\\d+', r'\\g<1>{}'.format(train_batch_size), pipeline_content)\n",
    "\n",
    "    # Set the dimension\n",
    "    pipeline_content = re.sub('min_dimension: [0-9]+',\n",
    "               f'min_dimension: {min_dim}', pipeline_content)\n",
    "    pipeline_content = re.sub('max_dimension: [0-9]+',\n",
    "               f'max_dimension: {max_dim}', pipeline_content)\n",
    "\n",
    "    # Set number of classes num_classes.\n",
    "    pipeline_content = re.sub('num_classes: [0-9]+',\n",
    "               f'num_classes: {num_classes}', pipeline_content)\n",
    "\n",
    "    # change the finetune type to detection\n",
    "    pipeline_content = re.sub(\n",
    "        'fine_tune_checkpoint_type: \"classification\"', f'fine_tune_checkpoint_type: \"{\"detection\"}\"', pipeline_content)\n",
    "\n",
    "    f.write(pipeline_content)"
   ]
  },
  {
   "cell_type": "markdown",
   "metadata": {},
   "source": [
    "#run on terminal\n",
    "\n",
    "!python models/research/object_detection/model_main_tf2.py --pipeline_config_path=pre_trained_models/pipeline_jajanan.config --num_train_steps=40000 --model_dir=training/jajanan_efficientdet_d0 --alsologtostderr"
   ]
  },
  {
   "cell_type": "markdown",
   "metadata": {},
   "source": [
    "#run on terminal with above so mAP score shows\n",
    "\n",
    "!python models/research/object_detection/model_main_tf2.py --pipeline_config_path=pre_trained_models/pipeline_jajanan.config --model_dir=training/jajanan_efficientdet_d0 --checkpoint_dir=training/jajanan_efficientdet_d0 --alsologtostderr --eval_timeout=10000"
   ]
  },
  {
   "cell_type": "markdown",
   "metadata": {},
   "source": [
    "tensorboard --logdir=training/jajanan_efficientdet_d0"
   ]
  },
  {
   "cell_type": "markdown",
   "metadata": {},
   "source": [
    "#run on terminal\n",
    "\n",
    "!python models/research/object_detection/exporter_main_v2.py --trained_checkpoint_dir=training/jajanan_efficientdet_d0 --output_directory=custom_model_lite/jajanan_efficientdet_d0 --pipeline_config_path=pre_trained_models/pipeline_jajanan.config\n"
   ]
  },
  {
   "cell_type": "code",
   "execution_count": null,
   "metadata": {},
   "outputs": [],
   "source": []
  }
 ],
 "metadata": {
  "kernelspec": {
   "display_name": "base",
   "language": "python",
   "name": "python3"
  },
  "language_info": {
   "codemirror_mode": {
    "name": "ipython",
    "version": 3
   },
   "file_extension": ".py",
   "mimetype": "text/x-python",
   "name": "python",
   "nbconvert_exporter": "python",
   "pygments_lexer": "ipython3",
   "version": "3.9.13"
  }
 },
 "nbformat": 4,
 "nbformat_minor": 2
}
